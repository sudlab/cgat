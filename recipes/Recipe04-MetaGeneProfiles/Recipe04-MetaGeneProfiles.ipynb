{
 "cells": [
  {
   "cell_type": "markdown",
   "metadata": {},
   "source": [
    "# What is the binding profile of NFKB across gene models?"
   ]
  },
  {
   "cell_type": "markdown",
   "metadata": {},
   "source": [
    "After processing RNA-seq data through alignment, gene/transcript\n",
    "abundance estimation and differential expression analysis, we are left\n",
    "with an unannotated list of differentially expressed genes. We may\n",
    "want to know whether there is evidence to suggest that these genes are\n",
    "regulated by a transcription factor of interest. We can answer this\n",
    "using ChIP-seq data that we ourselves have generated or by using\n",
    "public resources such as ENCODE.\n",
    "\n",
    "For example, we have carried out an RNA-seq experiment in\n",
    "lymphoblastoid cell lines (LCLs) looking at the effect of TNF-a\n",
    "stimulation on gene expression. Using one of the many tools for\n",
    "conducting differential expression analysis we have arrived at a set\n",
    "of 133 genes that are up-regulated when LCLs are stimulated with\n",
    "TNF-a.\n",
    "\n",
    "We know that the main transcription factor that drives expression of\n",
    "inflammatory genes using other immune stimulators is NFKB. We would\n",
    "therefore like to answer the question:\n",
    "\n",
    "Is there evidence to support a role for NFKB in the regulation of\n",
    "genes regulated by TNF-a in LCLs?\n",
    "\n",
    "ENCODE have produced many ChIP-seq data sets and by a stroke of luck\n",
    "they have NFKB ChIP-seq data in TNF-a stimulated LCLs. In an\n",
    "exploratory phase of the analysis, we would like to see what the\n",
    "profile of NFKB binding is across genes i.e does it bind predominantly\n",
    "at the TSS, exons or 3' UTR. We can do this fairly easily with a few\n",
    "files and a few commands.\n",
    "\n",
    "The input files that we require are:\n",
    "\n",
    "* A :term:`gtf` file containing a complete set of known protein coding\n",
    "  gene transcripts, which may be downloaded from ENSEMBL by typing::\n",
    "\n",
    "    wget ftp://ftp.ensembl.org/pub/release-73/gtf/homo_sapiens/Homo_sapiens.GRCh37.73.gtf.gz -o logfile\n",
    "\n",
    "* A file containing aligned NFKB ChIP-seq reads in :term:`bam` format,\n",
    "  which is available via UCSC::\n",
    "\n",
    "    wget -O nfkb.bam http://hgdownload-test.cse.ucsc.edu/goldenPath/hg19/encodeDCC/wgEncodeSydhTfbs/wgEncodeSydhTfbsGm10847NfkbTnfaIggrabAlnRep1.bam -o logfile\n",
    "    samtools index nfkb.bam\n",
    "\n",
    "We can then take protein coding genes from ENSEMBL with an awk statement::\n",
    "\n",
    "    wget -qO- ftp://ftp.ensembl.org/pub/release-72/gtf/homo_sapiens/Homo_sapiens.GRCh37.72.gtf.gz\n",
    "    | gunzip \n",
    "    | awk '$2==\"protein_coding\" && $1==\"chr19\"' \\\n",
    "    | cgat gff2gff --method=sanitize=ucsc\n",
    "    | gzip > protein_coding.chr19.gtf.gz\n",
    "\n",
    "Here, we limit us to chr19 in order to speed up the profile computation.\n",
    "\n",
    "With these data in place, we can use ``bam2geneprofile`` to assess the binding\n",
    "profile of NFKB across gene models."
   ]
  },
  {
   "cell_type": "code",
   "execution_count": 1,
   "metadata": {},
   "outputs": [],
   "source": [
    "!cgat bam2geneprofile \\\n",
    "    --bam-file=nfkb.bam \\\n",
    "    --gtf-file=protein_coding.chr19.gtf.gz \\\n",
    "    --method=geneprofile \\\n",
    "    --output-filename-pattern=nfkb_profile_%s \\\n",
    "    > nfkb_profile.log"
   ]
  },
  {
   "cell_type": "markdown",
   "metadata": {},
   "source": [
    "This statement will produce a matrix as an output file named\n",
    "\"nfkb_profile.geneprofile.matrix.tsv.gz\". These data are amenable to\n",
    "further manipulation and visualisation. For example, we can use R to\n",
    "produce a profile plot over the gene model."
   ]
  },
  {
   "cell_type": "code",
   "execution_count": 2,
   "metadata": {},
   "outputs": [
    {
     "data": {
      "text/plain": [
       "  bin   region region_bin none\n",
       "1   0 upstream          0  846\n",
       "2   1 upstream          1  867\n",
       "3   2 upstream          2  865\n",
       "4   3 upstream          3  877\n",
       "5   4 upstream          4  904\n",
       "6   5 upstream          5  904\n"
      ]
     },
     "metadata": {},
     "output_type": "display_data"
    }
   ],
   "source": [
    "%load_ext rpy2.ipython\n",
    "%R profile = read.csv(\"nfkb_profile_geneprofile.matrix.tsv.gz\", header = T, stringsAsFactors = F, sep = \"\\t\");\n",
    "%R print(head(profile))"
   ]
  },
  {
   "cell_type": "code",
   "execution_count": 3,
   "metadata": {},
   "outputs": [
    {
     "data": {
      "image/png": "[encoded data removed]"
     },
     "metadata": {},
     "output_type": "display_data"
    }
   ],
   "source": [
    "%%R\n",
    "plot(profile$bin, profile$none, cex=0.2, xaxt = \"none\")\n",
    "abline(v = c(1000, 2000), lty = 2);\n",
    "mtext(\"upstream\", adj = 0.1);\n",
    "mtext(\"exons\", adj = 0.5);\n",
    "mtext(\"downstream\", adj = 0.9);"
   ]
  },
  {
   "cell_type": "markdown",
   "metadata": {},
   "source": [
    "This plot displays the predominance of NFKB binding at transcription\n",
    "start sites of protein coding genes."
   ]
  }
 ],
 "metadata": {
  "anaconda-cloud": {},
  "kernelspec": {
   "display_name": "Python [default]",
   "language": "python",
   "name": "python3"
  },
  "language_info": {
   "codemirror_mode": {
    "name": "ipython",
    "version": 3
   },
   "file_extension": ".py",
   "mimetype": "text/x-python",
   "name": "python",
   "nbconvert_exporter": "python",
   "pygments_lexer": "ipython3",
   "version": "3.5.3"
  }
 },
 "nbformat": 4,
 "nbformat_minor": 1
}
