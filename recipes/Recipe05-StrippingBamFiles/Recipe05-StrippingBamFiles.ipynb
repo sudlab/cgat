{
 "cells": [
  {
   "cell_type": "markdown",
   "metadata": {},
   "source": [
    "# Stripping BAM files of sequence/quality information"
   ]
  },
  {
   "cell_type": "markdown",
   "metadata": {},
   "source": [
    "BAM files contain the alignment information for reads mapping\n",
    "to a genome. This information includes the position a read\n",
    "matches, various flags and quality metrics of the match, but also\n",
    "the sequence of a read and the base quality scores of a read.\n",
    "\n",
    "The read sequence and base quality scores are essential for deduping and\n",
    "for applications such as variant calling. But once your are think \n",
    "that your BAM-files contains only reads that have been mapped with\n",
    "confidence, the sequence and base quality scores are not required\n",
    "for tag counting applications such as RNA-seq or ChIP-seq and can\n",
    "be discarded.\n",
    "\n",
    "The mapped  positions could be converted into a bed file, but for workflows\n",
    "requiring bam-files, the *bam2bam* utility permits removing\n",
    "read sequences and quality scores directly."
   ]
  },
  {
   "cell_type": "markdown",
   "metadata": {},
   "source": [
    "The following command will remove the sequence and quality information from the file rnaseq_hg19_chr19.bam"
   ]
  },
  {
   "cell_type": "code",
   "execution_count": 1,
   "metadata": {
    "collapsed": true
   },
   "outputs": [],
   "source": [
    "!cgat bam2bam --strip-method=all --method=strip-sequence --log=strip.log < rnaseq_hg19_chr19.bam > stripped.bam"
   ]
  },
  {
   "cell_type": "code",
   "execution_count": 2,
   "metadata": {},
   "outputs": [
    {
     "name": "stdout",
     "output_type": "stream",
     "text": [
      "-rw-rw-r-- 1 andreas usersfgu 788M Apr  2  2014 rnaseq_hg19_chr19.bam\r\n",
      "-rw-rw-r-- 1 andreas usersfgu 215M Apr 24 14:20 stripped.bam\r\n"
     ]
    }
   ],
   "source": [
    "!ls -hlL rnaseq_hg19_chr19.bam stripped.bam"
   ]
  },
  {
   "cell_type": "markdown",
   "metadata": {},
   "source": [
    "The size of the BAM files has dropped from 788M to 215M. The bam-file can be used for further processing."
   ]
  },
  {
   "cell_type": "code",
   "execution_count": 1,
   "metadata": {},
   "outputs": [
    {
     "name": "stdout",
     "output_type": "stream",
     "text": [
      "14998038 + 0 in total (QC-passed reads + QC-failed reads)\r\n",
      "0 + 0 secondary\r\n",
      "0 + 0 supplementary\r\n",
      "0 + 0 duplicates\r\n",
      "14998038 + 0 mapped (100.00% : N/A)\r\n",
      "14998038 + 0 paired in sequencing\r\n",
      "7388885 + 0 read1\r\n",
      "7609153 + 0 read2\r\n",
      "13659120 + 0 properly paired (91.07% : N/A)\r\n",
      "14745975 + 0 with itself and mate mapped\r\n",
      "252063 + 0 singletons (1.68% : N/A)\r\n",
      "1086855 + 0 with mate mapped to a different chr\r\n",
      "1086855 + 0 with mate mapped to a different chr (mapQ>=5)\r\n"
     ]
    }
   ],
   "source": [
    "!samtools flagstat stripped.bam"
   ]
  },
  {
   "cell_type": "markdown",
   "metadata": {},
   "source": [
    "Nothing has changed compared to our original bam file"
   ]
  },
  {
   "cell_type": "code",
   "execution_count": 2,
   "metadata": {},
   "outputs": [
    {
     "name": "stdout",
     "output_type": "stream",
     "text": [
      "14998038 + 0 in total (QC-passed reads + QC-failed reads)\r\n",
      "0 + 0 secondary\r\n",
      "0 + 0 supplementary\r\n",
      "0 + 0 duplicates\r\n",
      "14998038 + 0 mapped (100.00% : N/A)\r\n",
      "14998038 + 0 paired in sequencing\r\n",
      "7388885 + 0 read1\r\n",
      "7609153 + 0 read2\r\n",
      "13659120 + 0 properly paired (91.07% : N/A)\r\n",
      "14745975 + 0 with itself and mate mapped\r\n",
      "252063 + 0 singletons (1.68% : N/A)\r\n",
      "1086855 + 0 with mate mapped to a different chr\r\n",
      "1086855 + 0 with mate mapped to a different chr (mapQ>=5)\r\n"
     ]
    }
   ],
   "source": [
    "!samtools flagstat rnaseq_hg19_chr19.bam"
   ]
  },
  {
   "cell_type": "markdown",
   "metadata": {},
   "source": [
    "Some tools might fail if there is no sequence information in the bam file."
   ]
  },
  {
   "cell_type": "code",
   "execution_count": 2,
   "metadata": {},
   "outputs": [
    {
     "name": "stdout",
     "output_type": "stream",
     "text": [
      "[Mon Apr 24 14:49:39 BST 2017] picard.analysis.CollectMultipleMetrics INPUT=/dev/stdin OUTPUT=metrics.txt    ASSUME_SORTED=true STOP_AFTER=0 METRIC_ACCUMULATION_LEVEL=[ALL_READS] PROGRAM=[CollectAlignmentSummaryMetrics, CollectBaseDistributionByCycle, CollectInsertSizeMetrics, MeanQualityByCycle, QualityScoreDistribution] INCLUDE_UNPAIRED=false VERBOSITY=INFO QUIET=false VALIDATION_STRINGENCY=STRICT COMPRESSION_LEVEL=5 MAX_RECORDS_IN_RAM=500000 CREATE_INDEX=false CREATE_MD5_FILE=false GA4GH_CLIENT_SECRETS=client_secrets.json\n",
      "[Mon Apr 24 14:49:39 BST 2017] Executing as andreas@cgat055.anat.ox.ac.uk on Linux 2.6.32-642.15.1.el6.x86_64 amd64; Java HotSpot(TM) 64-Bit Server VM 1.8.0_131-b11; Picard version: 2.8.3-SNAPSHOT\n",
      "WARNING\t2017-04-24 14:49:39\tSinglePassSamProgram\tFile reports sort order 'unsorted', assuming it's coordinate sorted anyway.\n",
      "[Mon Apr 24 14:49:39 BST 2017] picard.analysis.CollectMultipleMetrics done. Elapsed time: 0.00 minutes.\n",
      "Runtime.totalMemory()=508887040\n",
      "To get help, see http://broadinstitute.github.io/picard/index.html#GettingHelp\n",
      "Exception in thread \"main\" htsjdk.samtools.SAMFormatException: SAM validation error: ERROR: Record 1, Read name JOHNLENNON_0006:3:13:4020:10309#0, Zero-length read without FZ, CS or CQ tag\n",
      "\tat htsjdk.samtools.SAMUtils.processValidationErrors(SAMUtils.java:448)\n",
      "\tat htsjdk.samtools.BAMFileReader$BAMFileIterator.advance(BAMFileReader.java:665)\n",
      "\tat htsjdk.samtools.BAMFileReader$BAMFileIterator.<init>(BAMFileReader.java:638)\n",
      "\tat htsjdk.samtools.BAMFileReader$BAMFileIterator.<init>(BAMFileReader.java:626)\n",
      "\tat htsjdk.samtools.BAMFileReader.getIterator(BAMFileReader.java:334)\n",
      "\tat htsjdk.samtools.SamReader$PrimitiveSamReaderToSamReaderAdapter.iterator(SamReader.java:473)\n",
      "\tat picard.analysis.SinglePassSamProgram.makeItSo(SinglePassSamProgram.java:129)\n",
      "\tat picard.analysis.CollectMultipleMetrics.doWork(CollectMultipleMetrics.java:424)\n",
      "\tat picard.cmdline.CommandLineProgram.instanceMain(CommandLineProgram.java:205)\n",
      "\tat picard.cmdline.PicardCommandLine.instanceMain(PicardCommandLine.java:94)\n",
      "\tat picard.cmdline.PicardCommandLine.main(PicardCommandLine.java:104)\n",
      "cat: write error: Broken pipe\n"
     ]
    }
   ],
   "source": [
    "!cat stripped.bam | /ifs/apps/bio/picard-tools-2.8.3/CollectMultipleMetrics INPUT=/dev/stdin OUTPUT=metrics.txt"
   ]
  },
  {
   "cell_type": "markdown",
   "metadata": {},
   "source": [
    "In this case, the sequence information can be added back either with dummy sequence:"
   ]
  },
  {
   "cell_type": "code",
   "execution_count": 4,
   "metadata": {},
   "outputs": [
    {
     "name": "stdout",
     "output_type": "stream",
     "text": [
      "[Mon Apr 24 14:50:37 BST 2017] picard.analysis.CollectMultipleMetrics INPUT=/dev/stdin OUTPUT=metrics.txt VALIDATION_STRINGENCY=SILENT    ASSUME_SORTED=true STOP_AFTER=0 METRIC_ACCUMULATION_LEVEL=[ALL_READS] PROGRAM=[CollectAlignmentSummaryMetrics, CollectBaseDistributionByCycle, CollectInsertSizeMetrics, MeanQualityByCycle, QualityScoreDistribution] INCLUDE_UNPAIRED=false VERBOSITY=INFO QUIET=false COMPRESSION_LEVEL=5 MAX_RECORDS_IN_RAM=500000 CREATE_INDEX=false CREATE_MD5_FILE=false GA4GH_CLIENT_SECRETS=client_secrets.json\n",
      "[Mon Apr 24 14:50:37 BST 2017] Executing as andreas@cgat055.anat.ox.ac.uk on Linux 2.6.32-642.15.1.el6.x86_64 amd64; Java HotSpot(TM) 64-Bit Server VM 1.8.0_131-b11; Picard version: 2.8.3-SNAPSHOT\n",
      "WARNING\t2017-04-24 14:50:38\tSinglePassSamProgram\tFile reports sort order 'unsorted', assuming it's coordinate sorted anyway.\n",
      "INFO\t2017-04-24 14:50:46\tSinglePassSamProgram\tProcessed     1,000,000 records.  Elapsed time: 00:00:08s.  Time for last 1,000,000:    8s.  Last read position: chr19:2,078,150\n",
      "INFO\t2017-04-24 14:50:55\tSinglePassSamProgram\tProcessed     2,000,000 records.  Elapsed time: 00:00:17s.  Time for last 1,000,000:    8s.  Last read position: chr19:3,980,560\n",
      "INFO\t2017-04-24 14:51:04\tSinglePassSamProgram\tProcessed     3,000,000 records.  Elapsed time: 00:00:26s.  Time for last 1,000,000:    8s.  Last read position: chr19:6,587,417\n",
      "INFO\t2017-04-24 14:51:13\tSinglePassSamProgram\tProcessed     4,000,000 records.  Elapsed time: 00:00:35s.  Time for last 1,000,000:    9s.  Last read position: chr19:10,503,934\n",
      "INFO\t2017-04-24 14:51:22\tSinglePassSamProgram\tProcessed     5,000,000 records.  Elapsed time: 00:00:44s.  Time for last 1,000,000:    8s.  Last read position: chr19:12,907,914\n",
      "INFO\t2017-04-24 14:51:30\tSinglePassSamProgram\tProcessed     6,000,000 records.  Elapsed time: 00:00:52s.  Time for last 1,000,000:    8s.  Last read position: chr19:16,666,153\n",
      "INFO\t2017-04-24 14:51:39\tSinglePassSamProgram\tProcessed     7,000,000 records.  Elapsed time: 00:01:00s.  Time for last 1,000,000:    8s.  Last read position: chr19:19,105,499\n",
      "INFO\t2017-04-24 14:51:47\tSinglePassSamProgram\tProcessed     8,000,000 records.  Elapsed time: 00:01:09s.  Time for last 1,000,000:    8s.  Last read position: chr19:29,099,069\n",
      "INFO\t2017-04-24 14:51:56\tSinglePassSamProgram\tProcessed     9,000,000 records.  Elapsed time: 00:01:18s.  Time for last 1,000,000:    9s.  Last read position: chr19:36,606,411\n",
      "INFO\t2017-04-24 14:52:05\tSinglePassSamProgram\tProcessed    10,000,000 records.  Elapsed time: 00:01:27s.  Time for last 1,000,000:    8s.  Last read position: chr19:39,964,920\n",
      "INFO\t2017-04-24 14:52:14\tSinglePassSamProgram\tProcessed    11,000,000 records.  Elapsed time: 00:01:36s.  Time for last 1,000,000:    9s.  Last read position: chr19:44,273,894\n",
      "INFO\t2017-04-24 14:52:23\tSinglePassSamProgram\tProcessed    12,000,000 records.  Elapsed time: 00:01:45s.  Time for last 1,000,000:    8s.  Last read position: chr19:49,120,045\n",
      "INFO\t2017-04-24 14:52:32\tSinglePassSamProgram\tProcessed    13,000,000 records.  Elapsed time: 00:01:53s.  Time for last 1,000,000:    8s.  Last read position: chr19:50,304,761\n",
      "INFO\t2017-04-24 14:52:41\tSinglePassSamProgram\tProcessed    14,000,000 records.  Elapsed time: 00:02:02s.  Time for last 1,000,000:    8s.  Last read position: chr19:55,606,864\n",
      "INFO\t2017-04-24 14:52:49\tRExecutor\tExecuting R script via command: Rscript /tmp/andreas/script2728045687992402128.R /ifs/devel/andreas/cgat/recipes/Recipe05-StrippingBamFiles/metrics.txt.base_distribution_by_cycle_metrics /ifs/devel/andreas/cgat/recipes/Recipe05-StrippingBamFiles/metrics.txt.base_distribution_by_cycle.pdf stdin \n",
      "INFO\t2017-04-24 14:52:50\tProcessExecutor\tnull device \n",
      "INFO\t2017-04-24 14:52:50\tProcessExecutor\t          1 \n",
      "INFO\t2017-04-24 14:52:51\tRExecutor\tExecuting R script via command: Rscript /tmp/andreas/script1392610472875695817.R /ifs/devel/andreas/cgat/recipes/Recipe05-StrippingBamFiles/metrics.txt.insert_size_metrics /ifs/devel/andreas/cgat/recipes/Recipe05-StrippingBamFiles/metrics.txt.insert_size_histogram.pdf stdin\n",
      "INFO\t2017-04-24 14:52:52\tProcessExecutor\tnull device \n",
      "INFO\t2017-04-24 14:52:52\tProcessExecutor\t          1 \n",
      "INFO\t2017-04-24 14:52:52\tRExecutor\tExecuting R script via command: Rscript /tmp/andreas/script234972425505716787.R /ifs/devel/andreas/cgat/recipes/Recipe05-StrippingBamFiles/metrics.txt.quality_by_cycle_metrics /ifs/devel/andreas/cgat/recipes/Recipe05-StrippingBamFiles/metrics.txt.quality_by_cycle.pdf stdin \n",
      "INFO\t2017-04-24 14:52:52\tProcessExecutor\tnull device \n",
      "INFO\t2017-04-24 14:52:52\tProcessExecutor\t          1 \n",
      "INFO\t2017-04-24 14:52:52\tRExecutor\tExecuting R script via command: Rscript /tmp/andreas/script5113446725656746186.R /ifs/devel/andreas/cgat/recipes/Recipe05-StrippingBamFiles/metrics.txt.quality_distribution_metrics /ifs/devel/andreas/cgat/recipes/Recipe05-StrippingBamFiles/metrics.txt.quality_distribution.pdf stdin \n",
      "INFO\t2017-04-24 14:52:52\tProcessExecutor\tnull device \n",
      "INFO\t2017-04-24 14:52:52\tProcessExecutor\t          1 \n",
      "[Mon Apr 24 14:52:52 BST 2017] picard.analysis.CollectMultipleMetrics done. Elapsed time: 2.24 minutes.\n",
      "Runtime.totalMemory()=508887040\n"
     ]
    }
   ],
   "source": [
    "!cat rnaseq_hg19_chr19.bam | cgat bam2bam -v 0 --method=set-sequence - | /ifs/apps/bio/picard-tools-2.8.3/CollectMultipleMetrics INPUT=/dev/stdin OUTPUT=metrics.txt VALIDATION_STRINGENCY=SILENT"
   ]
  },
  {
   "cell_type": "markdown",
   "metadata": {},
   "source": [
    "And voila, picard works. Of course, some metrics will not be meaningful without the read sequences and base quality scores. The original sequence can be added back using the *unstrip* option. Note that this is operation might take some\n",
    "time and require a substantial amount of memory. It is thus best left for debugging purposes only. If sequence is required in a BAM file, it is best to leave it in."
   ]
  },
  {
   "cell_type": "code",
   "execution_count": 5,
   "metadata": {
    "collapsed": true
   },
   "outputs": [],
   "source": [
    "!cgat bam2bam --method=unstrip -1 rnaseq_hg19_chr19.fastq.1.gz -2 rnaseq_hg19_chr19.fastq.2.gz --log=unstrip.log < stripped.bam > unstripped.bam"
   ]
  },
  {
   "cell_type": "markdown",
   "metadata": {},
   "source": [
    "To check if we got our original file back, we can compare the sequence contents. Note that the files might not be binary equal.\n",
    "To save time, we are checking only if the first 1000 lines are equal (ignore the errors resulting from closing the samtools pipe after 1000 lines)."
   ]
  },
  {
   "cell_type": "code",
   "execution_count": 11,
   "metadata": {},
   "outputs": [
    {
     "name": "stdout",
     "output_type": "stream",
     "text": [
      "samtools view: writing to standard output failed: Broken pipe\n",
      "samtools view: error closing standard output: -1\n",
      "samtools view: writing to standard output failed: Broken pipe\n",
      "samtools view: error closing standard output: -1\n",
      "  1000 a\n",
      "  1000 b\n",
      "  2000 total\n",
      "diff is:\n",
      "cleaning up\n"
     ]
    }
   ],
   "source": [
    "!samtools view unstripped.bam | head -n 1000 > a\n",
    "!samtools view rnaseq_hg19_chr19.bam | head -n 1000 > b\n",
    "!wc -l a b\n",
    "!echo \"diff is:\"\n",
    "!diff a b\n",
    "!echo \"cleaning up\"\n",
    "!rm -f a b"
   ]
  }
 ],
 "metadata": {
  "anaconda-cloud": {},
  "kernelspec": {
   "display_name": "Python [default]",
   "language": "python",
   "name": "python3"
  },
  "language_info": {
   "codemirror_mode": {
    "name": "ipython",
    "version": 3
   },
   "file_extension": ".py",
   "mimetype": "text/x-python",
   "name": "python",
   "nbconvert_exporter": "python",
   "pygments_lexer": "ipython3",
   "version": "3.5.3"
  }
 },
 "nbformat": 4,
 "nbformat_minor": 1
}
